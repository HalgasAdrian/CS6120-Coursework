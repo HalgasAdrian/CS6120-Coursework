{
  "nbformat": 4,
  "nbformat_minor": 0,
  "metadata": {
    "colab": {
      "provenance": [],
      "machine_shape": "hm",
      "gpuType": "A100"
    },
    "kernelspec": {
      "name": "python3",
      "display_name": "Python 3"
    },
    "language_info": {
      "name": "python"
    },
    "accelerator": "GPU"
  },
  "cells": [
    {
      "cell_type": "markdown",
      "source": [
        "**Assignment 1: Natural Language Processing**\n",
        "\n",
        "Movie Review Sentiment Analysis\n",
        "\n",
        "The goal of this assignment is to implement and compare three text classification algorithms—\n",
        "Naive Bayes, Logistic Regression, and Multilayer Perceptron (MLP)—on the NLTK Movie Reviews\n",
        "dataset. You will explore the impact of using both raw Term Frequency (TF) and Term Frequency-\n",
        "Inverse Document Frequency (TF-IDF) as feature representations."
      ],
      "metadata": {
        "id": "Rfz6ZITMyBiV"
      }
    },
    {
      "cell_type": "markdown",
      "source": [
        "**1. Data Preparation**\n",
        "- Load the NLTK Movie Reviews Dataset"
      ],
      "metadata": {
        "id": "4xwI1sQoyro0"
      }
    },
    {
      "cell_type": "code",
      "execution_count": null,
      "metadata": {
        "id": "aP7Ivk4Hw3Nm"
      },
      "outputs": [],
      "source": [
        "import nltk\n",
        "# Download the IMDb movie reviews dataset\n",
        "nltk.download('movie_reviews')"
      ]
    }
  ]
}