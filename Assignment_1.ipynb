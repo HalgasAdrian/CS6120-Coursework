{
  "nbformat": 4,
  "nbformat_minor": 0,
  "metadata": {
    "colab": {
      "provenance": [],
      "machine_shape": "hm",
      "gpuType": "A100"
    },
    "kernelspec": {
      "name": "python3",
      "display_name": "Python 3"
    },
    "language_info": {
      "name": "python"
    },
    "accelerator": "GPU"
  },
  "cells": [
    {
      "cell_type": "markdown",
      "source": [
        "**Assignment 1: Natural Language Processing**\n",
        "\n",
        "Movie Review Sentiment Analysis\n",
        "\n",
        "The goal of this assignment is to implement and compare three text classification algorithms—\n",
        "Naive Bayes, Logistic Regression, and Multilayer Perceptron (MLP)—on the NLTK Movie Reviews\n",
        "dataset. You will explore the impact of using both raw Term Frequency (TF) and Term Frequency-\n",
        "Inverse Document Frequency (TF-IDF) as feature representations."
      ],
      "metadata": {
        "id": "Rfz6ZITMyBiV"
      }
    },
    {
      "cell_type": "markdown",
      "source": [
        "**Data Preparation**\n",
        "- Load the NLTK Movie Reviews Dataset"
      ],
      "metadata": {
        "id": "4xwI1sQoyro0"
      }
    },
    {
      "cell_type": "code",
      "execution_count": 1,
      "metadata": {
        "id": "aP7Ivk4Hw3Nm",
        "colab": {
          "base_uri": "https://localhost:8080/"
        },
        "outputId": "4828d1c9-b64e-46cf-b931-3b66c8d3fd2d"
      },
      "outputs": [
        {
          "output_type": "stream",
          "name": "stderr",
          "text": [
            "[nltk_data] Downloading package movie_reviews to /root/nltk_data...\n",
            "[nltk_data]   Unzipping corpora/movie_reviews.zip.\n"
          ]
        },
        {
          "output_type": "execute_result",
          "data": {
            "text/plain": [
              "True"
            ]
          },
          "metadata": {},
          "execution_count": 1
        }
      ],
      "source": [
        "import nltk\n",
        "# Download the IMDb movie reviews dataset\n",
        "nltk.download('movie_reviews')"
      ]
    },
    {
      "cell_type": "markdown",
      "source": [
        "**Access the Dataset**\n",
        "- Once downloaded, we acess the data using the following code"
      ],
      "metadata": {
        "id": "Qz-W384szg2-"
      }
    },
    {
      "cell_type": "code",
      "source": [
        "from nltk.corpus import movie_reviews\n",
        "# Access the movie reviews and labels\n",
        "documents = [(list(movie_reviews.words(fileid)), category)\n",
        "for category in movie_reviews.categories()\n",
        "for fileid in movie_reviews.fileids(category)]\n",
        "# Shuffle the documents to ensure a balanced distribution of positive and negative reviews\n",
        "import random\n",
        "random.shuffle(documents)"
      ],
      "metadata": {
        "id": "LqeOVg9RzsP1"
      },
      "execution_count": 2,
      "outputs": []
    },
    {
      "cell_type": "markdown",
      "source": [
        "**Explore the Dataset**\n",
        "- Take a look at the structure of the dataset and sample reviews to understand its characteristics\n"
      ],
      "metadata": {
        "id": "HvPZDUUcz3A6"
      }
    },
    {
      "cell_type": "code",
      "source": [
        "# Print the first review and its label\n",
        "print(\"Sample Review:\", documents[0][0][:10]) # Displaying the first 10 words for brevity\n",
        "print(\"Label:\", documents[0][1])"
      ],
      "metadata": {
        "id": "VTsZkjNFz-tS",
        "outputId": "4680fbf7-4843-4760-efae-b428e701ee0c",
        "colab": {
          "base_uri": "https://localhost:8080/"
        }
      },
      "execution_count": 3,
      "outputs": [
        {
          "output_type": "stream",
          "name": "stdout",
          "text": [
            "Sample Review: ['sandra', 'bullock', 'in', 'high', 'heels', 'and', 'wielding', 'a', 'chainsaw', '?']\n",
            "Label: neg\n"
          ]
        }
      ]
    }
  ]
}